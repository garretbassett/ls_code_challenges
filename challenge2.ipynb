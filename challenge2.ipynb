{
  "nbformat": 4,
  "nbformat_minor": 0,
  "metadata": {
    "colab": {
      "name": "code_challenges.ipynb",
      "version": "0.3.2",
      "provenance": [],
      "include_colab_link": true
    },
    "kernelspec": {
      "name": "python3",
      "display_name": "Python 3"
    }
  },
  "cells": [
    {
      "cell_type": "markdown",
      "metadata": {
        "id": "view-in-github",
        "colab_type": "text"
      },
      "source": [
        "<a href=\"https://colab.research.google.com/github/garretbassett/ls_code_challenges/blob/master/challenge2.ipynb\" target=\"_parent\"><img src=\"https://colab.research.google.com/assets/colab-badge.svg\" alt=\"Open In Colab\"/></a>"
      ]
    },
    {
      "cell_type": "markdown",
      "metadata": {
        "id": "3NNZkT1FuYw2",
        "colab_type": "text"
      },
      "source": [
        "Boolean expressions and list comprehensions are a great way to quickly filter data and can be an incredibly powerful tool. They will serve you well the rest of your career.\n",
        "\n",
        "In today's assignment we will reinforce them by playing with some toy data.\n",
        "\n",
        "------------------------------------------------------------------------------------------------------------------\n",
        "You have always dreamed of being a homeowner near a body of water. The breeze blowing in your hair, the sun kissing your skin. Ahhh.. \n",
        "\n",
        "You cannot stand to wait another day. You empty your bank, taking your life savings and commit to your dream. At the end of the day you calculate your budget to be $550,000. Being a savvy data scientist, you've collected data on all the homes calling your name ahead of time.\n",
        "\n",
        "In your quest for the right home, you've narrowed down a list of things you want.\n",
        "\n",
        "    A home that is less than 20 years old.\n",
        "    A home with more than one bathroom.\n",
        "    A home that meets your budget\n",
        "\n",
        "-----------------------------------------------------------------------------------------------------------------\n",
        "Assignment:\n",
        "\n",
        "If you're unfamiliar with them, lookup python boolean expressions and try to gain an intuition for how the operation is performed and how they work. Same for pythonic list comprehensions. Specifically lookup examples of both being used with pandas.\n",
        "\n",
        "1. Write a multi-line comment in your code explaining boolean expressions and list comprehensions in your own way.\n",
        "\n",
        "2 . Write a multi-boolean expression that filters your dataframe for the conditions in the bulleted list.\n",
        "\n",
        "    Practice a single condition first to get a feel for how it works and then try your hand at combining boolean expressions in a single condition. Look up examples to help you if you get stuck.\n",
        "\n",
        "\n",
        "Example of chained boolean filters for dataframes:\n",
        "\n",
        "df_zoo[(df_zoo['state'] == 'NH') & (df_zoo['pets_allowed'] == 'yes')]\n",
        "\n",
        "-----------------------------------------------------------------------------------------------------------------\n",
        "Stretch Goals: \n",
        "\n",
        "\n",
        "1. Create a copy of the existing dataframe.\n",
        "\n",
        "2. Lookup documentation for np.where() and use it to create a new column on your new dataframe.\n",
        "The new column cells should say 'Possible Dream Home' if the row is true, and 'No Thanks' if the row is false. \n",
        "\n",
        "Be careful! The way that you make a copy of your dataframe may be important to success.\n",
        "\n",
        "Example: \n",
        "We create a column elderly where age > 50 and give values of yes if over 50 and no if below 50.\n",
        " \n",
        "\n",
        "new_df['elderly'] = np.where(new_df['age']>= 50, 'yes', 'no')"
      ]
    },
    {
      "cell_type": "code",
      "metadata": {
        "id": "zsDhyKm_uWZd",
        "colab_type": "code",
        "colab": {
          "base_uri": "https://localhost:8080/",
          "height": 51
        },
        "outputId": "2c19f69e-a2d0-4c95-e3ca-51b1efb5ef9d"
      },
      "source": [
        "# BOOLEAN EXPRESSION: Evaluates whether a statement is True or False and returns\n",
        "# the corresponding value.\n",
        "#\n",
        "# LIST COMPREHENSION: A quick way to create a new list based on an expression\n",
        "# with one or more conditions.\n",
        "#\n",
        "\n",
        "import pandas as pd\n",
        "import numpy as np\n",
        "\n",
        "\n",
        "# load in data\n",
        "df = pd.read_csv('https://raw.githubusercontent.com' +\n",
        "'/edwardauron/LambdaCodeChallenges/master/fake_housing_data.csv', index_col=0)\n",
        "\n",
        "# run me before coding to explore dataset\n",
        "print(df.shape)\n",
        "\n",
        "def boolean_filter(dataframe, budget):\n",
        "  mod_df = df[(df['price'] <= budget) & (df['num_bathrooms'] > 1) & (df['age'] < 20)]\n",
        "  return mod_df\n",
        "  \n",
        "  \n",
        "test = boolean_filter(df, 550000)\n",
        "test.shape"
      ],
      "execution_count": 25,
      "outputs": [
        {
          "output_type": "stream",
          "text": [
            "(1001, 5)\n"
          ],
          "name": "stdout"
        },
        {
          "output_type": "execute_result",
          "data": {
            "text/plain": [
              "(180, 5)"
            ]
          },
          "metadata": {
            "tags": []
          },
          "execution_count": 25
        }
      ]
    },
    {
      "cell_type": "code",
      "metadata": {
        "id": "LLLZRTuowyOo",
        "colab_type": "code",
        "colab": {
          "base_uri": "https://localhost:8080/",
          "height": 68
        },
        "outputId": "d650f688-9884-447a-c3a4-da754498c624"
      },
      "source": [
        "########### STRETCH GOAL ###########\n",
        "\n",
        "new_df = df.copy()\n",
        "\n",
        "new_df['dream_home'] = np.where(((df['price'] <= 550000) & (df['num_bathrooms'] > 1) & (df['age'] < 20)), 'Possible Dream Home', 'No Thanks')\n",
        "\n",
        "new_df.head()\n",
        "new_df['dream_home'].value_counts()"
      ],
      "execution_count": 24,
      "outputs": [
        {
          "output_type": "execute_result",
          "data": {
            "text/plain": [
              "No Thanks              821\n",
              "Possible Dream Home    180\n",
              "Name: dream_home, dtype: int64"
            ]
          },
          "metadata": {
            "tags": []
          },
          "execution_count": 24
        }
      ]
    }
  ]
}