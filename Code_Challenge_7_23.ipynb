{
  "nbformat": 4,
  "nbformat_minor": 0,
  "metadata": {
    "colab": {
      "name": "Code_Challenge_7_23.ipynb",
      "version": "0.3.2",
      "provenance": [],
      "include_colab_link": true
    },
    "kernelspec": {
      "name": "python3",
      "display_name": "Python 3"
    }
  },
  "cells": [
    {
      "cell_type": "markdown",
      "metadata": {
        "id": "view-in-github",
        "colab_type": "text"
      },
      "source": [
        "<a href=\"https://colab.research.google.com/github/garretbassett/ls_code_challenges/blob/master/Code_Challenge_7_23.ipynb\" target=\"_parent\"><img src=\"https://colab.research.google.com/assets/colab-badge.svg\" alt=\"Open In Colab\"/></a>"
      ]
    },
    {
      "cell_type": "markdown",
      "metadata": {
        "id": "syyKqc24jy58",
        "colab_type": "text"
      },
      "source": [
        "If we list all the natural numbers below 10 that are multiples of 3 or 5, we get 3, 5, 6 and 9. The sum of these multiples is 23.\n",
        "\n",
        "Find the sum of all the multiples of 3 or 5 below 1000.\n",
        "\n",
        "If you finish early, think about efficiency, and generalizing your solution. Hint: The concept of \"triangular numbers\" may come in handy."
      ]
    },
    {
      "cell_type": "code",
      "metadata": {
        "id": "vmzwbO_hjaHa",
        "colab_type": "code",
        "colab": {
          "base_uri": "https://localhost:8080/",
          "height": 34
        },
        "outputId": "86c8a57d-ffae-4c76-a9a5-566d9785fe40"
      },
      "source": [
        "# TA SOLUTION (unsure why it produces one less than my solution - I need to figure that out):\n",
        "\n",
        "#method with math instead of loops\n",
        "def sum_of_multi(target, multiple):\n",
        "  #sum of all multiples up to and including target\n",
        "  x = target // multiple\n",
        "  return multiple*(x*(x+1))//2\n",
        "\n",
        "def sum_of_multiples_3_5(target):\n",
        "  #adjust target since the problem is non-inclusive\n",
        "  target = target-1\n",
        "  #return the sum of multiples of 3 and 5\n",
        "  #remove dupes by subtracting all multiples of\n",
        "  #least common multiplier, 15\n",
        "  return (sum_of_multi(target, 3) + \n",
        "          sum_of_multi(target, 5) - \n",
        "          sum_of_multi(target, 15))\n",
        "\n",
        "sum_of_multiples_3_5(1000)"
      ],
      "execution_count": 1,
      "outputs": [
        {
          "output_type": "execute_result",
          "data": {
            "text/plain": [
              "233168"
            ]
          },
          "metadata": {
            "tags": []
          },
          "execution_count": 1
        }
      ]
    },
    {
      "cell_type": "code",
      "metadata": {
        "id": "A5S0doK0jkEl",
        "colab_type": "code",
        "outputId": "6ebd0819-eb9a-4e93-e200-8ad7188e13ef",
        "colab": {
          "base_uri": "https://localhost:8080/",
          "height": 34
        }
      },
      "source": [
        "# SOLUTION 1 - SIMPLE LOOP\n",
        "\n",
        "multiple = 1\n",
        "\n",
        "for i in range(1, 1000):\n",
        "  if i % 3 == 0 or i % 5 == 0:\n",
        "    multiple += i\n",
        "    # print(multiple)\n",
        "\n",
        "print(multiple)"
      ],
      "execution_count": 0,
      "outputs": [
        {
          "output_type": "stream",
          "text": [
            "233169\n"
          ],
          "name": "stdout"
        }
      ]
    },
    {
      "cell_type": "code",
      "metadata": {
        "id": "EKZ76QSRoPsm",
        "colab_type": "code",
        "outputId": "aa9eac39-b372-45db-f1b8-29cd052a81ae",
        "colab": {
          "base_uri": "https://localhost:8080/",
          "height": 204
        }
      },
      "source": [
        "# SOLUTION 2 - FUNCTION\n",
        "\n",
        "def triangular(**kwargs):\n",
        "  multiple = 1\n",
        "  for i in range(1, 1000):\n",
        "    detector = False\n",
        "    for key, value in kwargs.items():\n",
        "      if i % value == 0:\n",
        "        detector = True\n",
        "      if detector:\n",
        "        multiple *= i\n",
        "\n",
        "print(triangular(25))"
      ],
      "execution_count": 0,
      "outputs": [
        {
          "output_type": "error",
          "ename": "TypeError",
          "evalue": "ignored",
          "traceback": [
            "\u001b[0;31m---------------------------------------------------------------------------\u001b[0m",
            "\u001b[0;31mTypeError\u001b[0m                                 Traceback (most recent call last)",
            "\u001b[0;32m<ipython-input-12-18954907226d>\u001b[0m in \u001b[0;36m<module>\u001b[0;34m()\u001b[0m\n\u001b[1;32m     10\u001b[0m         \u001b[0mmultiple\u001b[0m \u001b[0;34m*=\u001b[0m \u001b[0mi\u001b[0m\u001b[0;34m\u001b[0m\u001b[0;34m\u001b[0m\u001b[0m\n\u001b[1;32m     11\u001b[0m \u001b[0;34m\u001b[0m\u001b[0m\n\u001b[0;32m---> 12\u001b[0;31m \u001b[0mprint\u001b[0m\u001b[0;34m(\u001b[0m\u001b[0mtriangular\u001b[0m\u001b[0;34m(\u001b[0m\u001b[0;36m25\u001b[0m\u001b[0;34m)\u001b[0m\u001b[0;34m)\u001b[0m\u001b[0;34m\u001b[0m\u001b[0;34m\u001b[0m\u001b[0m\n\u001b[0m",
            "\u001b[0;31mTypeError\u001b[0m: triangular() takes 0 positional arguments but 1 was given"
          ]
        }
      ]
    }
  ]
}
