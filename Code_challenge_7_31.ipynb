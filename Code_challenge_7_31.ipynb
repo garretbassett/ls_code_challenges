{
  "nbformat": 4,
  "nbformat_minor": 0,
  "metadata": {
    "colab": {
      "name": "Code_challenge_7_31.ipynb",
      "version": "0.3.2",
      "provenance": [],
      "include_colab_link": true
    },
    "kernelspec": {
      "name": "python3",
      "display_name": "Python 3"
    }
  },
  "cells": [
    {
      "cell_type": "markdown",
      "metadata": {
        "id": "view-in-github",
        "colab_type": "text"
      },
      "source": [
        "<a href=\"https://colab.research.google.com/github/garretbassett/ls_code_challenges/blob/master/Code_challenge_7_31.ipynb\" target=\"_parent\"><img src=\"https://colab.research.google.com/assets/colab-badge.svg\" alt=\"Open In Colab\"/></a>"
      ]
    },
    {
      "cell_type": "markdown",
      "metadata": {
        "id": "AXI1G4uXz55i",
        "colab_type": "text"
      },
      "source": [
        "Given an array of integers, return a new array such that each element at index i of the new array is the product of all the numbers in the original array except the one at i.\n",
        "\n",
        "For example, if our input was [1, 2, 3, 4, 5], the expected output would be [120, 60, 40, 30, 24]. If our input was [3, 2, 1], the expected output would be [2*1, 3*1, 2*3] == [2, 3, 6].\n",
        "\n",
        "Stretch Goal: Only use python standard libraries (no importing numpy, pandas etc..)\n",
        "\n",
        "Stretch Goal 2: Do it without using division\n",
        "\n",
        "Stretch Goal 3: Do a backbend and be able to touch your ankles. There's this really interesting phenomenon where if you look at your legs from the back like that they don't seem like \"your\" legs."
      ]
    },
    {
      "cell_type": "code",
      "metadata": {
        "id": "XHPDBGfaz5vF",
        "colab_type": "code",
        "colab": {}
      },
      "source": [
        "import numpy as np\n",
        "\n",
        "a_list = [1,2,3,4,5]"
      ],
      "execution_count": 0,
      "outputs": []
    },
    {
      "cell_type": "code",
      "metadata": {
        "id": "qLqtZNL23W4a",
        "colab_type": "code",
        "colab": {
          "base_uri": "https://localhost:8080/",
          "height": 34
        },
        "outputId": "dbf6ab3b-7feb-4811-8eac-bfb2ab25c8ab"
      },
      "source": [
        "def foo(a_list):\n",
        "  return [np.prod(a_list[:i]+a_list[i+1:])\n",
        "         for i in range(len(a_list))]\n",
        "\n",
        "foo(a_list)"
      ],
      "execution_count": 3,
      "outputs": [
        {
          "output_type": "execute_result",
          "data": {
            "text/plain": [
              "[120, 60, 40, 30, 24]"
            ]
          },
          "metadata": {
            "tags": []
          },
          "execution_count": 3
        }
      ]
    },
    {
      "cell_type": "code",
      "metadata": {
        "id": "1d5OAGtN3vXN",
        "colab_type": "code",
        "colab": {
          "base_uri": "https://localhost:8080/",
          "height": 34
        },
        "outputId": "67409084-bab4-4049-aae8-ec351f619782"
      },
      "source": [
        "def foo(a_list):\n",
        "  product = np.prod(a_list)\n",
        "  return [(product // num) for num in a_list]\n",
        "\n",
        "foo(a_list)"
      ],
      "execution_count": 4,
      "outputs": [
        {
          "output_type": "execute_result",
          "data": {
            "text/plain": [
              "[120, 60, 40, 30, 24]"
            ]
          },
          "metadata": {
            "tags": []
          },
          "execution_count": 4
        }
      ]
    },
    {
      "cell_type": "code",
      "metadata": {
        "id": "FijZJeGI3_dH",
        "colab_type": "code",
        "colab": {
          "base_uri": "https://localhost:8080/",
          "height": 34
        },
        "outputId": "7611a9a4-ee29-4b66-d477-2199e4648a83"
      },
      "source": [
        "def foo(a_list):\n",
        "  products = []\n",
        "  for i in range(len(a_list)):\n",
        "    product = 1\n",
        "    for j in range(len(a_list)):\n",
        "      if i != j:\n",
        "        product *= a_list[j]\n",
        "    products.append(product)\n",
        "  return products\n",
        "\n",
        "foo(a_list)"
      ],
      "execution_count": 8,
      "outputs": [
        {
          "output_type": "execute_result",
          "data": {
            "text/plain": [
              "[120, 60, 40, 30, 24]"
            ]
          },
          "metadata": {
            "tags": []
          },
          "execution_count": 8
        }
      ]
    },
    {
      "cell_type": "code",
      "metadata": {
        "id": "nPHzyiOK6aCU",
        "colab_type": "code",
        "colab": {}
      },
      "source": [
        "# RIDLEY\n",
        "\n",
        "def numpy(a_list):\n",
        "  return [np.prod(a_list[:i]+a_list[i+1:]) for i in range(len(a_list))]\n",
        "\n",
        "\n",
        "def numpy_two(a_list):\n",
        "  product = np.prod(a_list)\n",
        "  return [(product//num) for num in a_list]\n",
        "\n",
        "\n",
        "def stand(arr):\n",
        "    new_arr = []\n",
        "    i = 0\n",
        "    while i < len(arr):\n",
        "        new = 1\n",
        "        for item in arr:\n",
        "            if i == arr.index(item):\n",
        "                continue\n",
        "            new = item*new \n",
        "        new_arr.append(new)\n",
        "        i+=1\n",
        "    return new_arr"
      ],
      "execution_count": 0,
      "outputs": []
    }
  ]
}