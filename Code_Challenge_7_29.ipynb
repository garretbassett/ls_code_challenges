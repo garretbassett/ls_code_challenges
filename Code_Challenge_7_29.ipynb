{
  "nbformat": 4,
  "nbformat_minor": 0,
  "metadata": {
    "colab": {
      "name": "Code_Challenge_7_29.ipynb",
      "version": "0.3.2",
      "provenance": [],
      "include_colab_link": true
    },
    "kernelspec": {
      "name": "python3",
      "display_name": "Python 3"
    }
  },
  "cells": [
    {
      "cell_type": "markdown",
      "metadata": {
        "id": "view-in-github",
        "colab_type": "text"
      },
      "source": [
        "<a href=\"https://colab.research.google.com/github/garretbassett/ls_code_challenges/blob/master/Code_Challenge_7_29.ipynb\" target=\"_parent\"><img src=\"https://colab.research.google.com/assets/colab-badge.svg\" alt=\"Open In Colab\"/></a>"
      ]
    },
    {
      "cell_type": "markdown",
      "metadata": {
        "id": "YuMixZr7Zzc9",
        "colab_type": "text"
      },
      "source": [
        "## CODE CHALLENGE - 7/29"
      ]
    },
    {
      "cell_type": "code",
      "metadata": {
        "id": "6HpgJnQRZsgU",
        "colab_type": "code",
        "colab": {}
      },
      "source": [
        "'''\n",
        "- df.loc[] is a pandas data frame method.\n",
        "- df.loc[] is for Filtering ROWS selection and/or selecting COLUMNS by the LABEL\n",
        "\n",
        "Rows: a Label is the INDEX.\n",
        "Columns: a Label is the Column NAME\n",
        "\n",
        "Date Frame Labels example below\n",
        "\n",
        "   'name_1'| 'name_2'       < 'Labels'\n",
        "0|_______|________|\n",
        "1|_______|________|\n",
        "2|_______|________|\n",
        "3|_______|________|\n",
        "\n",
        "^\n",
        "Also 'Labels'\n",
        "\n",
        "\n",
        ".loc[] method format below:\n",
        "\n",
        "df.loc[what Rows you want , what Columns you want] \n",
        "\n",
        "Allowed inputs are..\n",
        "- A single Label - df.loc[5]\n",
        "- A list of Labels - df.loc['name_1', 'name_2', 'name_3']\n",
        "- A slice with Labels - df.loc['name_1':'name_3']\n",
        "- A Boolean Array same length as axis being sliced - df.loc[True, True, True, False, False]\n",
        "\n",
        "\\/ Tips \\/\n",
        "- Axis is either Rows or Columns\n",
        "- : means ALL Labels along THAT Axis\n",
        "- : is inclusive on both sides of the Slice\n",
        "\n",
        "Use Google-Fu to figure out how to do what the exercises ask for.\n",
        "'''"
      ],
      "execution_count": 0,
      "outputs": []
    },
    {
      "cell_type": "code",
      "metadata": {
        "id": "9Cq30g88aTqF",
        "colab_type": "code",
        "colab": {
          "base_uri": "https://localhost:8080/",
          "height": 595
        },
        "outputId": "513d8170-bbf9-40e7-f5a0-90a0aa1e5454"
      },
      "source": [
        "# Start with this code skeleton and answer the questions below\n",
        "\n",
        "import pandas as pd\n",
        "\n",
        "# Data Frame to practice .loc[] techniques on\n",
        "df = pd.DataFrame({'index':[1, 2, 3, 4, 5],\n",
        "                   'name_1':['entry1', 'entry2', 'entry3', 'entry4', 'entry5'],\n",
        "                   'name_2':['entry1', 'entry2', 'entry3', 'entry4', 'entry5'],\n",
        "                   'name_3':['entry1', 'entry2', 'entry3', 'entry4', 'entry5'],\n",
        "                   'name_4':['entry1', 'entry2', 'entry3', 'entry4', 'entry5'],\n",
        "                   'name_5':['entry1', 'entry2', 'entry3', 'entry4', 'entry5']})\n",
        "\n",
        "# Set Index\n",
        "df.set_index('index', inplace=True)\n",
        "\n",
        "print(df)\n",
        "### Select by a Single Label\n",
        "#1 Select and print the '1' Row\n",
        "\n",
        "print(df.loc[1])\n",
        "\n",
        "#2 Select and print Row 1 Label with Column 1 Label to get entry1\n",
        "\n",
        "print(df.loc[1, 'name_1'])\n",
        "\n",
        "### Select Multiple Rows Using LISTS\n",
        "#1 Select and print Row Labels 1, 2\n",
        "\n",
        "print(df.loc[[1, 2]])\n",
        "\n",
        "#2 Select and print Row Labels 1, 3, 5\n",
        "\n",
        "print(df.loc[[1, 3, 5]])\n",
        "\n",
        "# Now Rows WITH desired Columns\n",
        "#3 Select and print Row Labels 1, 2, 3 with Column Labels 'name_1', 'name_2', 'name_3'\n",
        "\n",
        "print(df.loc[[1, 2, 3], ['name_1', 'name_2', 'name_3']])\n",
        "\n",
        "#4 Select and print Row Labels 1, 3, 4, 5 with Column Labels 'name_1', 'name_3', 'name_4', 'name_5'\n",
        "\n",
        "bool_list = [True, False, True, True, True]\n",
        "\n",
        "print(df.loc[bool_list, bool_list])\n"
      ],
      "execution_count": 14,
      "outputs": [
        {
          "output_type": "stream",
          "text": [
            "       name_1  name_2  name_3  name_4  name_5\n",
            "index                                        \n",
            "1      entry1  entry1  entry1  entry1  entry1\n",
            "2      entry2  entry2  entry2  entry2  entry2\n",
            "3      entry3  entry3  entry3  entry3  entry3\n",
            "4      entry4  entry4  entry4  entry4  entry4\n",
            "5      entry5  entry5  entry5  entry5  entry5\n",
            "name_1    entry1\n",
            "name_2    entry1\n",
            "name_3    entry1\n",
            "name_4    entry1\n",
            "name_5    entry1\n",
            "Name: 1, dtype: object\n",
            "entry1\n",
            "       name_1  name_2  name_3  name_4  name_5\n",
            "index                                        \n",
            "1      entry1  entry1  entry1  entry1  entry1\n",
            "2      entry2  entry2  entry2  entry2  entry2\n",
            "       name_1  name_2  name_3  name_4  name_5\n",
            "index                                        \n",
            "1      entry1  entry1  entry1  entry1  entry1\n",
            "3      entry3  entry3  entry3  entry3  entry3\n",
            "5      entry5  entry5  entry5  entry5  entry5\n",
            "       name_1  name_2  name_3\n",
            "index                        \n",
            "1      entry1  entry1  entry1\n",
            "2      entry2  entry2  entry2\n",
            "3      entry3  entry3  entry3\n",
            "       name_1  name_3  name_4  name_5\n",
            "index                                \n",
            "1      entry1  entry1  entry1  entry1\n",
            "3      entry3  entry3  entry3  entry3\n",
            "4      entry4  entry4  entry4  entry4\n",
            "5      entry5  entry5  entry5  entry5\n"
          ],
          "name": "stdout"
        }
      ]
    },
    {
      "cell_type": "code",
      "metadata": {
        "id": "TDkpuugqbpxj",
        "colab_type": "code",
        "colab": {}
      },
      "source": [
        "\n"
      ],
      "execution_count": 0,
      "outputs": []
    }
  ]
}